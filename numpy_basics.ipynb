{
  "nbformat": 4,
  "nbformat_minor": 0,
  "metadata": {
    "colab": {
      "name": "numpy_basics.ipynb",
      "provenance": [],
      "authorship_tag": "ABX9TyP8Wmsf396tjt7Rq/42rfLQ",
      "include_colab_link": true
    },
    "kernelspec": {
      "name": "python3",
      "display_name": "Python 3"
    }
  },
  "cells": [
    {
      "cell_type": "markdown",
      "metadata": {
        "id": "view-in-github",
        "colab_type": "text"
      },
      "source": [
        "<a href=\"https://colab.research.google.com/github/thomastomy5/ML/blob/main/numpy_basics.ipynb\" target=\"_parent\"><img src=\"https://colab.research.google.com/assets/colab-badge.svg\" alt=\"Open In Colab\"/></a>"
      ]
    },
    {
      "cell_type": "code",
      "metadata": {
        "id": "-CPgsn8h0T2U",
        "outputId": "a37b8ffd-0f9b-4d7b-f209-f7789058d9fd",
        "colab": {
          "base_uri": "https://localhost:8080/",
          "height": 85
        }
      },
      "source": [
        "from numpy import array\n",
        "data = [11, 22, 33, 44, 55]\n",
        "print(data)\n",
        "print(type(data))\n",
        "# array of data\n",
        "data = array(data)\n",
        "print(data)\n",
        "print(type(data))"
      ],
      "execution_count": 2,
      "outputs": [
        {
          "output_type": "stream",
          "text": [
            "[11, 22, 33, 44, 55]\n",
            "<class 'list'>\n",
            "[11 22 33 44 55]\n",
            "<class 'numpy.ndarray'>\n"
          ],
          "name": "stdout"
        }
      ]
    },
    {
      "cell_type": "code",
      "metadata": {
        "id": "3mOqHSgA06Ht",
        "outputId": "47bd16d4-e384-4028-c632-1f59715c38bc",
        "colab": {
          "base_uri": "https://localhost:8080/",
          "height": 136
        }
      },
      "source": [
        "# list of data\n",
        "data = [[11, 22],\n",
        "\t\t[33, 44],\n",
        "\t\t[55, 66]]\n",
        "print(data)\n",
        "print(type(data))\n",
        "# array of data\n",
        "data = array(data)\n",
        "print(data)\n",
        "print(type(data))\n",
        "print(data[0,1])"
      ],
      "execution_count": 12,
      "outputs": [
        {
          "output_type": "stream",
          "text": [
            "[[11, 22], [33, 44], [55, 66]]\n",
            "<class 'list'>\n",
            "[[11 22]\n",
            " [33 44]\n",
            " [55 66]]\n",
            "<class 'numpy.ndarray'>\n",
            "22\n"
          ],
          "name": "stdout"
        }
      ]
    },
    {
      "cell_type": "code",
      "metadata": {
        "id": "mZaJQc_w2r0q",
        "outputId": "b71528fe-11e8-44b6-90b6-f7253cfd6435",
        "colab": {
          "base_uri": "https://localhost:8080/",
          "height": 85
        }
      },
      "source": [
        "data = array([[11, 22, 33],\n",
        "\t\t[44, 55, 66],\n",
        "\t\t[77, 88, 99]])\n",
        "# separate data\n",
        "X, y = data[:, :-1], data[:, -1]\n",
        "print(X)\n",
        "print(y)"
      ],
      "execution_count": 15,
      "outputs": [
        {
          "output_type": "stream",
          "text": [
            "[[11 22]\n",
            " [44 55]\n",
            " [77 88]]\n",
            "[33 66 99]\n"
          ],
          "name": "stdout"
        }
      ]
    },
    {
      "cell_type": "code",
      "metadata": {
        "id": "FiVIhaRd5ULk",
        "outputId": "eed60518-f5c0-4409-b694-f541a5fbebf7",
        "colab": {
          "base_uri": "https://localhost:8080/",
          "height": 102
        }
      },
      "source": [
        "from numpy import reshape\n",
        "# define array\n",
        "data = array([11, 22, 33, 44, 55, 77])\n",
        "print(data.shape)\n",
        "# reshape\n",
        "data = data.reshape(3, 2)\n",
        "print(data.shape)\n",
        "print(data)"
      ],
      "execution_count": 18,
      "outputs": [
        {
          "output_type": "stream",
          "text": [
            "(6,)\n",
            "(3, 2)\n",
            "[[11 22]\n",
            " [33 44]\n",
            " [55 77]]\n"
          ],
          "name": "stdout"
        }
      ]
    },
    {
      "cell_type": "code",
      "metadata": {
        "id": "tdyeqvJU6RyL",
        "outputId": "c3e16e25-040d-456c-f299-294c07bb7da9",
        "colab": {
          "base_uri": "https://localhost:8080/",
          "height": 187
        }
      },
      "source": [
        "# list of data\n",
        "data = [[11, 22],\n",
        "\t\t[33, 44],\n",
        "\t\t[55, 66]]\n",
        "# array of data\n",
        "data = array(data)\n",
        "print(data.shape)\n",
        "# reshape\n",
        "data = data.reshape((data.shape[0], data.shape[1], 1))\n",
        "print(data.shape)\n",
        "print(data)"
      ],
      "execution_count": 19,
      "outputs": [
        {
          "output_type": "stream",
          "text": [
            "(3, 2)\n",
            "(3, 2, 1)\n",
            "[[[11]\n",
            "  [22]]\n",
            "\n",
            " [[33]\n",
            "  [44]]\n",
            "\n",
            " [[55]\n",
            "  [66]]]\n"
          ],
          "name": "stdout"
        }
      ]
    }
  ]
}